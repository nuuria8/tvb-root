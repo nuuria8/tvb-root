{
 "cells": [
  {
   "cell_type": "markdown",
   "id": "d6b85e46-8075-44ba-84b4-6adf3c1e1663",
   "metadata": {},
   "source": [
    "    QUESTIONS\n",
    "- how to avoid the error about the noise? \n",
    "- how to add the other variables of interest, not only E (exc FR)?\n",
    "- how to upload the connectivity file to tvb_data so that I don't have to use a path to it"
   ]
  },
  {
   "cell_type": "markdown",
   "id": "higher-leisure",
   "metadata": {
    "tags": []
   },
   "source": [
    "### Calcium monitor demo\n",
    "In this code we compare the Raw output (firing rate) with the **calcium monitor** output in a simulation of the mouse brain with stimulation of some of the regions.\n",
    "\n",
    "###### Núria Tort-Colet"
   ]
  },
  {
   "cell_type": "code",
   "execution_count": 1,
   "id": "integrated-brighton",
   "metadata": {},
   "outputs": [
    {
     "name": "stdout",
     "output_type": "stream",
     "text": [
      "2021-12-10 10:46:50,837 - WARNING - tvb.simulator.common - psutil module not available: no warnings will be issued when a\n",
      "    simulation may require more memory than available\n",
      "   INFO  log level set to INFO\n"
     ]
    },
    {
     "name": "stderr",
     "output_type": "stream",
     "text": [
      "/Users/nuuria/ownCloud/TVB_models/new/tvb-root/scientific_library/tvb/datatypes/surfaces.py:61: UserWarning: Geodesic distance module is unavailable; some functionality for surfaces will be unavailable.\n",
      "  warnings.warn(msg)\n"
     ]
    },
    {
     "name": "stdout",
     "output_type": "stream",
     "text": [
      "INFO: this monitors.py version includes a calcium monitor\n"
     ]
    }
   ],
   "source": [
    "import tvb\n",
    "from tvb.simulator.lab import *\n",
    "import numpy as np"
   ]
  },
  {
   "cell_type": "code",
   "execution_count": 2,
   "id": "different-international",
   "metadata": {},
   "outputs": [],
   "source": [
    "# simulation parameters:\n",
    "from tvb_model_reference.simulation_file.parameter.nuu_parameter_Mouse_512 import Parameter\n",
    "parameters = Parameter()"
   ]
  },
  {
   "cell_type": "code",
   "execution_count": null,
   "id": "c28ef5b0-da86-4cc1-bd4d-214bb65d8184",
   "metadata": {},
   "outputs": [],
   "source": []
  },
  {
   "cell_type": "code",
   "execution_count": 3,
   "id": "young-fever",
   "metadata": {},
   "outputs": [],
   "source": [
    "# model \n",
    "\n",
    "#import tvb_model_reference.src.Zerlaut as zerlaut_model\n",
    "#my_model = zerlaut_model.Zerlaut_adaptation_second_order(\n",
    "#    variables_of_interest = 'E I C_ee C_ei C_ii W_e W_i noise'.split())\n",
    "\n",
    "my_model = models.ZerlautAdaptationSecondOrder()\n",
    "\n",
    "#    variables_of_interest = 'E I C_ee C_ei C_ii W_e W_i noise'.split())\n",
    "my_model.configure()\n",
    "# parameters of the model:\n",
    "\n",
    "my_model.g_L=np.array(10.0)\n",
    "my_model.E_L_e=np.array(-63.0)\n",
    "my_model.E_L_i=np.array(-65.0)\n",
    "my_model.C_m=np.array(200.0)\n",
    "my_model.b_e=np.array(60.0)\n",
    "my_model.a_e=np.array(0.0)\n",
    "my_model.b_i=np.array(0.0)\n",
    "my_model.a_i=np.array(0.0)\n",
    "my_model.tau_w_e=np.array(500.0)\n",
    "my_model.tau_w_i=np.array(1.0)\n",
    "my_model.E_e=np.array(0.0)\n",
    "my_model.E_i=np.array(-80.0)\n",
    "my_model.Q_e=np.array(1.5)\n",
    "my_model.Q_i=np.array(5.0)\n",
    "my_model.tau_e=np.array(5.0)\n",
    "my_model.tau_i=np.array(5.0)\n",
    "my_model.N_tot=np.array(10000)\n",
    "my_model.p_connect_e=np.array(0.05)\n",
    "my_model.p_connect_i=np.array(0.05)\n",
    "my_model.g=np.array(0.2)\n",
    "my_model.T=np.array(40.0)\n",
    "my_model.P_e=np.array([-0.0498, 0.00506, -0.025, 0.0014, -0.00041, 0.0105, -0.036, 0.0074, 0.0012, -0.0407])\n",
    "my_model.P_i=np.array([-0.0514, 0.004, -0.0083, 0.0002, -0.0005, 0.0014, -0.0146, 0.0045, 0.0028, -0.0153])\n",
    "my_model.K_ext_e=np.array(400)\n",
    "my_model.K_ext_i=np.array(0)\n",
    "my_model.external_input_ex_ex=np.array(0.315*1e-3)\n",
    "my_model.external_input_ex_in=np.array(0.000)\n",
    "my_model.external_input_in_ex=np.array(0.315*1e-3)\n",
    "my_model.external_input_in_in=np.array(0.000)\n",
    "my_model.tau_OU=np.array(5.0)\n",
    "my_model.weight_noise=np.array(1e-4) #10.5*1e-5\n",
    "# 1rst order variables:\n",
    "my_model.state_variable_range['E'] =np.array([0.000, 0.000])\n",
    "my_model.state_variable_range['I'] =np.array([0.00, 0.00])\n",
    "# 2nd order variables:\n",
    "my_model.state_variable_range['C_ee'] = np.array([0.0,0.0])\n",
    "my_model.state_variable_range['C_ei'] = np.array([0.0,0.0])\n",
    "my_model.state_variable_range['C_ii'] = np.array([0.0,0.0])\n",
    "my_model.state_variable_range['W_e'] = np.array([100.0, 100.0])\n",
    "my_model.state_variable_range['W_i'] = np.array([0.0,0.0])\n"
   ]
  },
  {
   "cell_type": "code",
   "execution_count": 4,
   "id": "4b6cd883-513e-4748-8d6a-6d367bb3e4cb",
   "metadata": {},
   "outputs": [
    {
     "data": {
      "text/plain": [
       "{'Type': 'ZerlautAdaptationSecondOrder',\n",
       " 'title': 'ZerlautAdaptationSecondOrder gid: 1b923a9a-ef7e-4658-9ac2-e7b3e4befea3',\n",
       " 'state_variable_range': \"{'E': array([0., 0.]), 'I': array([0., 0.]), 'C_ee': array([0., 0.]), 'C_ei': array([0., 0.]), 'C_ii': array([0., 0.]), 'W_e': array([100., 100.]), 'W_i': array([0., 0.])}\",\n",
       " 'variables_of_interest': \"('E',)\",\n",
       " 'g_L shape': '()',\n",
       " 'g_L dtype': 'float64',\n",
       " 'g_L [min, median, max]': '[10, 10, 10]',\n",
       " 'E_L_e shape': '()',\n",
       " 'E_L_e dtype': 'float64',\n",
       " 'E_L_e [min, median, max]': '[-63, -63, -63]',\n",
       " 'E_L_i shape': '()',\n",
       " 'E_L_i dtype': 'float64',\n",
       " 'E_L_i [min, median, max]': '[-65, -65, -65]',\n",
       " 'C_m shape': '()',\n",
       " 'C_m dtype': 'float64',\n",
       " 'C_m [min, median, max]': '[200, 200, 200]',\n",
       " 'b_e shape': '()',\n",
       " 'b_e dtype': 'float64',\n",
       " 'b_e [min, median, max]': '[60, 60, 60]',\n",
       " 'a_e shape': '()',\n",
       " 'a_e dtype': 'float64',\n",
       " 'a_e [min, median, max]': '[0, 0, 0]',\n",
       " 'b_i shape': '()',\n",
       " 'b_i dtype': 'float64',\n",
       " 'b_i [min, median, max]': '[0, 0, 0]',\n",
       " 'a_i shape': '()',\n",
       " 'a_i dtype': 'float64',\n",
       " 'a_i [min, median, max]': '[0, 0, 0]',\n",
       " 'tau_w_e shape': '()',\n",
       " 'tau_w_e dtype': 'float64',\n",
       " 'tau_w_e [min, median, max]': '[500, 500, 500]',\n",
       " 'tau_w_i shape': '()',\n",
       " 'tau_w_i dtype': 'float64',\n",
       " 'tau_w_i [min, median, max]': '[1, 1, 1]',\n",
       " 'E_e shape': '()',\n",
       " 'E_e dtype': 'float64',\n",
       " 'E_e [min, median, max]': '[0, 0, 0]',\n",
       " 'E_i shape': '()',\n",
       " 'E_i dtype': 'float64',\n",
       " 'E_i [min, median, max]': '[-80, -80, -80]',\n",
       " 'Q_e shape': '()',\n",
       " 'Q_e dtype': 'float64',\n",
       " 'Q_e [min, median, max]': '[1.5, 1.5, 1.5]',\n",
       " 'Q_i shape': '()',\n",
       " 'Q_i dtype': 'float64',\n",
       " 'Q_i [min, median, max]': '[5, 5, 5]',\n",
       " 'tau_e shape': '()',\n",
       " 'tau_e dtype': 'float64',\n",
       " 'tau_e [min, median, max]': '[5, 5, 5]',\n",
       " 'tau_i shape': '()',\n",
       " 'tau_i dtype': 'float64',\n",
       " 'tau_i [min, median, max]': '[5, 5, 5]',\n",
       " 'N_tot shape': '()',\n",
       " 'N_tot dtype': 'int64',\n",
       " 'N_tot [min, median, max]': '[10000, 10000, 10000]',\n",
       " 'p_connect shape': '(1,)',\n",
       " 'p_connect dtype': 'float64',\n",
       " 'p_connect [min, median, max]': '[0.05, 0.05, 0.05]',\n",
       " 'g shape': '()',\n",
       " 'g dtype': 'float64',\n",
       " 'g [min, median, max]': '[0.2, 0.2, 0.2]',\n",
       " 'K_ext_e shape': '()',\n",
       " 'K_ext_e dtype': 'int64',\n",
       " 'K_ext_e [min, median, max]': '[400, 400, 400]',\n",
       " 'K_ext_i shape': '()',\n",
       " 'K_ext_i dtype': 'int64',\n",
       " 'K_ext_i [min, median, max]': '[0, 0, 0]',\n",
       " 'T shape': '()',\n",
       " 'T dtype': 'float64',\n",
       " 'T [min, median, max]': '[40, 40, 40]',\n",
       " 'P_e shape': '(10,)',\n",
       " 'P_e dtype': 'float64',\n",
       " 'P_e [min, median, max]': '[-0.0498, 0.000395, 0.0105]',\n",
       " 'P_i shape': '(10,)',\n",
       " 'P_i dtype': 'float64',\n",
       " 'P_i [min, median, max]': '[-0.0514, -0.00015, 0.0045]',\n",
       " 'external_input_ex_ex shape': '()',\n",
       " 'external_input_ex_ex dtype': 'float64',\n",
       " 'external_input_ex_ex [min, median, max]': '[0.000315, 0.000315, 0.000315]',\n",
       " 'external_input_ex_in shape': '()',\n",
       " 'external_input_ex_in dtype': 'float64',\n",
       " 'external_input_ex_in [min, median, max]': '[0, 0, 0]',\n",
       " 'external_input_in_ex shape': '()',\n",
       " 'external_input_in_ex dtype': 'float64',\n",
       " 'external_input_in_ex [min, median, max]': '[0.000315, 0.000315, 0.000315]',\n",
       " 'external_input_in_in shape': '()',\n",
       " 'external_input_in_in dtype': 'float64',\n",
       " 'external_input_in_in [min, median, max]': '[0, 0, 0]',\n",
       " 'state_variable_boundaries': \"{'E': array([0.00000000e+000, 1.79769313e+308]), 'I': array([0.00000000e+000, 1.79769313e+308])}\",\n",
       " 'gid': \"UUID('1b923a9a-ef7e-4658-9ac2-e7b3e4befea3')\"}"
      ]
     },
     "execution_count": 4,
     "metadata": {},
     "output_type": "execute_result"
    }
   ],
   "source": [
    "my_model.summary_info()\n"
   ]
  },
  {
   "cell_type": "code",
   "execution_count": 5,
   "id": "continued-reporter",
   "metadata": {},
   "outputs": [],
   "source": [
    "# connectivity (between regions)\n",
    "abspath = os.path.dirname(os.path.abspath(os.getcwd()))\n",
    "path = abspath + '/calcium_monitor_tutorial/tvb_model_reference/data/Mouse_512/Connectivity_nuria_v1.h5'\n",
    "my_connectivity = connectivity.Connectivity().from_file(path)"
   ]
  },
  {
   "cell_type": "code",
   "execution_count": 6,
   "id": "infrared-world",
   "metadata": {},
   "outputs": [],
   "source": [
    "# coupling\n",
    "my_coupling = coupling.Linear(a=np.array([0.0126]))"
   ]
  },
  {
   "cell_type": "code",
   "execution_count": 7,
   "id": "empty-butler",
   "metadata": {},
   "outputs": [],
   "source": [
    "# integrator\n",
    "my_noise = noise.Additive(nsig=np.array([0.0, 0.0, 0.0, 0.0, 0.0, 0.0, 0.0, 1.0]),\n",
    "                       ntau=0.0)\n",
    "my_noise.random_stream.seed(10)\n",
    "\n",
    "my_integrator = integrators.HeunStochastic(noise=my_noise,dt=0.1)"
   ]
  },
  {
   "cell_type": "code",
   "execution_count": 8,
   "id": "undefined-hughes",
   "metadata": {},
   "outputs": [],
   "source": [
    "# monitors\n",
    "my_monitors =[]\n",
    "my_monitors.append(monitors.Raw())\n",
    "monitor_Ca = monitors.Ca(\n",
    "        variables_of_interest=np.array([0,1,2]),\n",
    "        tau_rise=10,\n",
    "        tau_decay=100)\n",
    "my_monitors.append(monitor_Ca)"
   ]
  },
  {
   "cell_type": "code",
   "execution_count": 9,
   "id": "imperial-intake",
   "metadata": {},
   "outputs": [],
   "source": [
    "# stimulus \n",
    "num_regions = 512\n",
    "weighting = np.zeros((num_regions, ))\n",
    "weighting[[10,20,110,120,210,220,310,320,410,420]] = np.array(\n",
    "    [1.4e-4, 1.4e-4, 1.2e-4, 1.2e-4, 1e-4, 1e-4, 0.8e-4, 0.8e-4, 0.6e-4, 0.6e-4])\n",
    "\n",
    "\n",
    "eqn_t = equations.Gaussian()\n",
    "eqn_t.parameters[\"midpoint\"] = 3000.0\n",
    "eqn_t.parameters[\"sigma\"] = 100.0\n",
    "\n",
    "my_stimulus = patterns.StimuliRegion(temporal=eqn_t,\n",
    "                                  connectivity=my_connectivity,\n",
    "                                  weight=weighting)"
   ]
  },
  {
   "cell_type": "code",
   "execution_count": 10,
   "id": "established-title",
   "metadata": {},
   "outputs": [
    {
     "name": "stdout",
     "output_type": "stream",
     "text": [
      "  ERROR  Bad Simulator.integrator.noise.nsig shape: (8,)\n"
     ]
    }
   ],
   "source": [
    "sim = simulator.Simulator(\n",
    "    model = my_model,\n",
    "    connectivity = my_connectivity,\n",
    "    coupling = my_coupling,\n",
    "    integrator = my_integrator,\n",
    "    monitors = my_monitors,\n",
    "    stimulus = my_stimulus,\n",
    "    simulation_length = 5e3, # 5s simulation\n",
    ").configure()\n"
   ]
  },
  {
   "cell_type": "code",
   "execution_count": 11,
   "id": "latin-entity",
   "metadata": {},
   "outputs": [
    {
     "data": {
      "text/html": [
       "<table>\n",
       "<h3>Simulator</h3>\n",
       "<thead><tr><th></th><th style=\"text-align:left;width:40%\">value</th></tr></thead>\n",
       "<tbody>\n",
       "<tr><td>Type</td><td style=\"text-align:left;\"><pre>Simulator</pre></td>\n",
       "<tr><td>conduction_speed</td><td style=\"text-align:left;\"><pre>3.0</pre></td>\n",
       "<tr><td>connectivity</td><td style=\"text-align:left;\"><pre>Connectivity gid: 9cb0d661-52bf-4934-9b02-14319208fb59</pre></td>\n",
       "<tr><td>coupling</td><td style=\"text-align:left;\"><pre>Linear gid: b917b521-6a22-46b7-a875-9db8cfe442d7</pre></td>\n",
       "<tr><td>gid</td><td style=\"text-align:left;\"><pre>UUID('621bf60a-9a1b-43ee-b6de-bde56dfc139d')</pre></td>\n",
       "<tr><td>initial_conditions</td><td style=\"text-align:left;\"><pre>None</pre></td>\n",
       "<tr><td>integrator</td><td style=\"text-align:left;\"><pre>HeunStochastic gid: 69a37f93-9e4e-4fdc-b90c-8eb43dca2bfc</pre></td>\n",
       "<tr><td>model</td><td style=\"text-align:left;\"><pre>ZerlautAdaptationSecondOrder gid: 1b923a9a-ef7e-4658-9ac2-e7b3e4befea3</pre></td>\n",
       "<tr><td>monitors</td><td style=\"text-align:left;\"><pre>[<tvb.simulator.monitors.Raw object at 0x7feaf62d6ac8>, <tvb.simulator.monitors.Ca object at 0x7feaf62d6710>]</pre></td>\n",
       "<tr><td>simulation_length</td><td style=\"text-align:left;\"><pre>5000.0</pre></td>\n",
       "<tr><td>stimulus</td><td style=\"text-align:left;\"><pre>StimuliRegion gid: 574fd7cc-dbe0-4baf-9c42-ab5c34100d67</pre></td>\n",
       "<tr><td>surface</td><td style=\"text-align:left;\"><pre>None</pre></td>\n",
       "<tr><td>title</td><td style=\"text-align:left;\"><pre>Simulator gid: 621bf60a-9a1b-43ee-b6de-bde56dfc139d</pre></td>\n",
       "</tbody></table>"
      ],
      "text/plain": [
       "<tvb.simulator.simulator.Simulator at 0x7feaf62d6518>"
      ]
     },
     "execution_count": 11,
     "metadata": {},
     "output_type": "execute_result"
    }
   ],
   "source": [
    "sim"
   ]
  },
  {
   "cell_type": "code",
   "execution_count": 12,
   "id": "welcome-pakistan",
   "metadata": {},
   "outputs": [
    {
     "ename": "Exception",
     "evalue": "Got shape (8,) for noise but require (7, 512). You need to reconfigure noise after you have changed your model.",
     "output_type": "error",
     "traceback": [
      "\u001b[0;31m---------------------------------------------------------------------------\u001b[0m",
      "\u001b[0;31mException\u001b[0m                                 Traceback (most recent call last)",
      "\u001b[0;32m<ipython-input-12-27f3fb68f80d>\u001b[0m in \u001b[0;36m<module>\u001b[0;34m\u001b[0m\n\u001b[1;32m      1\u001b[0m \u001b[0;31m# run simulation\u001b[0m\u001b[0;34m\u001b[0m\u001b[0;34m\u001b[0m\u001b[0;34m\u001b[0m\u001b[0m\n\u001b[0;32m----> 2\u001b[0;31m \u001b[0mresult\u001b[0m \u001b[0;34m=\u001b[0m \u001b[0msim\u001b[0m\u001b[0;34m.\u001b[0m\u001b[0mrun\u001b[0m\u001b[0;34m(\u001b[0m\u001b[0;34m)\u001b[0m\u001b[0;34m\u001b[0m\u001b[0;34m\u001b[0m\u001b[0m\n\u001b[0m",
      "\u001b[0;32m~/ownCloud/TVB_models/new/tvb-root/scientific_library/tvb/simulator/simulator.py\u001b[0m in \u001b[0;36mrun\u001b[0;34m(self, **kwds)\u001b[0m\n\u001b[1;32m    631\u001b[0m             \u001b[0mxs\u001b[0m\u001b[0;34m.\u001b[0m\u001b[0mappend\u001b[0m\u001b[0;34m(\u001b[0m\u001b[0;34m[\u001b[0m\u001b[0;34m]\u001b[0m\u001b[0;34m)\u001b[0m\u001b[0;34m\u001b[0m\u001b[0;34m\u001b[0m\u001b[0m\n\u001b[1;32m    632\u001b[0m         \u001b[0mwall_time_start\u001b[0m \u001b[0;34m=\u001b[0m \u001b[0mtime\u001b[0m\u001b[0;34m.\u001b[0m\u001b[0mtime\u001b[0m\u001b[0;34m(\u001b[0m\u001b[0;34m)\u001b[0m\u001b[0;34m\u001b[0m\u001b[0;34m\u001b[0m\u001b[0m\n\u001b[0;32m--> 633\u001b[0;31m         \u001b[0;32mfor\u001b[0m \u001b[0mdata\u001b[0m \u001b[0;32min\u001b[0m \u001b[0mself\u001b[0m\u001b[0;34m(\u001b[0m\u001b[0;34m**\u001b[0m\u001b[0mkwds\u001b[0m\u001b[0;34m)\u001b[0m\u001b[0;34m:\u001b[0m\u001b[0;34m\u001b[0m\u001b[0;34m\u001b[0m\u001b[0m\n\u001b[0m\u001b[1;32m    634\u001b[0m             \u001b[0;32mfor\u001b[0m \u001b[0mtl\u001b[0m\u001b[0;34m,\u001b[0m \u001b[0mxl\u001b[0m\u001b[0;34m,\u001b[0m \u001b[0mt_x\u001b[0m \u001b[0;32min\u001b[0m \u001b[0mzip\u001b[0m\u001b[0;34m(\u001b[0m\u001b[0mts\u001b[0m\u001b[0;34m,\u001b[0m \u001b[0mxs\u001b[0m\u001b[0;34m,\u001b[0m \u001b[0mdata\u001b[0m\u001b[0;34m)\u001b[0m\u001b[0;34m:\u001b[0m\u001b[0;34m\u001b[0m\u001b[0;34m\u001b[0m\u001b[0m\n\u001b[1;32m    635\u001b[0m                 \u001b[0;32mif\u001b[0m \u001b[0mt_x\u001b[0m \u001b[0;32mis\u001b[0m \u001b[0;32mnot\u001b[0m \u001b[0;32mNone\u001b[0m\u001b[0;34m:\u001b[0m\u001b[0;34m\u001b[0m\u001b[0;34m\u001b[0m\u001b[0m\n",
      "\u001b[0;32m~/ownCloud/TVB_models/new/tvb-root/scientific_library/tvb/simulator/simulator.py\u001b[0m in \u001b[0;36m__call__\u001b[0;34m(self, simulation_length, random_state, n_steps)\u001b[0m\n\u001b[1;32m    363\u001b[0m         \u001b[0;32mfor\u001b[0m \u001b[0mstep\u001b[0m \u001b[0;32min\u001b[0m \u001b[0mrange\u001b[0m\u001b[0;34m(\u001b[0m\u001b[0mstart_step\u001b[0m\u001b[0;34m,\u001b[0m \u001b[0mstart_step\u001b[0m \u001b[0;34m+\u001b[0m \u001b[0mn_steps\u001b[0m\u001b[0;34m)\u001b[0m\u001b[0;34m:\u001b[0m\u001b[0;34m\u001b[0m\u001b[0;34m\u001b[0m\u001b[0m\n\u001b[1;32m    364\u001b[0m             \u001b[0mself\u001b[0m\u001b[0;34m.\u001b[0m\u001b[0m_loop_update_stimulus\u001b[0m\u001b[0;34m(\u001b[0m\u001b[0mstep\u001b[0m\u001b[0;34m,\u001b[0m \u001b[0mstimulus\u001b[0m\u001b[0;34m)\u001b[0m\u001b[0;34m\u001b[0m\u001b[0;34m\u001b[0m\u001b[0m\n\u001b[0;32m--> 365\u001b[0;31m             \u001b[0mstate\u001b[0m \u001b[0;34m=\u001b[0m \u001b[0mself\u001b[0m\u001b[0;34m.\u001b[0m\u001b[0mintegrate_next_step\u001b[0m\u001b[0;34m(\u001b[0m\u001b[0mstate\u001b[0m\u001b[0;34m,\u001b[0m \u001b[0mself\u001b[0m\u001b[0;34m.\u001b[0m\u001b[0mmodel\u001b[0m\u001b[0;34m,\u001b[0m \u001b[0mnode_coupling\u001b[0m\u001b[0;34m,\u001b[0m \u001b[0mlocal_coupling\u001b[0m\u001b[0;34m,\u001b[0m \u001b[0mstimulus\u001b[0m\u001b[0;34m)\u001b[0m\u001b[0;34m\u001b[0m\u001b[0;34m\u001b[0m\u001b[0m\n\u001b[0m\u001b[1;32m    366\u001b[0m             \u001b[0mself\u001b[0m\u001b[0;34m.\u001b[0m\u001b[0m_loop_update_history\u001b[0m\u001b[0;34m(\u001b[0m\u001b[0mstep\u001b[0m\u001b[0;34m,\u001b[0m \u001b[0mstate\u001b[0m\u001b[0;34m)\u001b[0m\u001b[0;34m\u001b[0m\u001b[0;34m\u001b[0m\u001b[0m\n\u001b[1;32m    367\u001b[0m             \u001b[0mnode_coupling\u001b[0m \u001b[0;34m=\u001b[0m \u001b[0mself\u001b[0m\u001b[0;34m.\u001b[0m\u001b[0m_loop_compute_node_coupling\u001b[0m\u001b[0;34m(\u001b[0m\u001b[0mstep\u001b[0m \u001b[0;34m+\u001b[0m \u001b[0;36m1\u001b[0m\u001b[0;34m)\u001b[0m\u001b[0;34m\u001b[0m\u001b[0;34m\u001b[0m\u001b[0m\n",
      "\u001b[0;32m~/ownCloud/TVB_models/new/tvb-root/scientific_library/tvb/simulator/integrators.py\u001b[0m in \u001b[0;36mintegrate\u001b[0;34m(self, X, model, coupling, local_coupling, stimulus)\u001b[0m\n\u001b[1;32m    238\u001b[0m     \u001b[0;32mdef\u001b[0m \u001b[0mintegrate\u001b[0m\u001b[0;34m(\u001b[0m\u001b[0mself\u001b[0m\u001b[0;34m,\u001b[0m \u001b[0mX\u001b[0m\u001b[0;34m,\u001b[0m \u001b[0mmodel\u001b[0m\u001b[0;34m,\u001b[0m \u001b[0mcoupling\u001b[0m\u001b[0;34m,\u001b[0m \u001b[0mlocal_coupling\u001b[0m\u001b[0;34m,\u001b[0m \u001b[0mstimulus\u001b[0m\u001b[0;34m)\u001b[0m\u001b[0;34m:\u001b[0m\u001b[0;34m\u001b[0m\u001b[0;34m\u001b[0m\u001b[0m\n\u001b[1;32m    239\u001b[0m         X[model.state_variable_mask] = self.scheme(X[model.state_variable_mask],\n\u001b[0;32m--> 240\u001b[0;31m                                                    model.dfun, coupling, local_coupling, stimulus)\n\u001b[0m\u001b[1;32m    241\u001b[0m         \u001b[0;32mreturn\u001b[0m \u001b[0mX\u001b[0m\u001b[0;34m\u001b[0m\u001b[0;34m\u001b[0m\u001b[0m\n\u001b[1;32m    242\u001b[0m \u001b[0;34m\u001b[0m\u001b[0m\n",
      "\u001b[0;32m~/ownCloud/TVB_models/new/tvb-root/scientific_library/tvb/simulator/integrators.py\u001b[0m in \u001b[0;36mscheme\u001b[0;34m(self, X, dfun, coupling, local_coupling, stimulus)\u001b[0m\n\u001b[1;32m    353\u001b[0m                       \" You need to reconfigure noise after you have changed your model.\"%(\n\u001b[1;32m    354\u001b[0m                        noise_gfun.shape, (noise.shape[0], noise.shape[1])))\n\u001b[0;32m--> 355\u001b[0;31m             \u001b[0;32mraise\u001b[0m \u001b[0mException\u001b[0m\u001b[0;34m(\u001b[0m\u001b[0mmsg\u001b[0m\u001b[0;34m)\u001b[0m\u001b[0;34m\u001b[0m\u001b[0;34m\u001b[0m\u001b[0m\n\u001b[0m\u001b[1;32m    356\u001b[0m \u001b[0;34m\u001b[0m\u001b[0m\n\u001b[1;32m    357\u001b[0m         \u001b[0mm_dx_tn\u001b[0m \u001b[0;34m=\u001b[0m \u001b[0mdfun\u001b[0m\u001b[0;34m(\u001b[0m\u001b[0mX\u001b[0m\u001b[0;34m,\u001b[0m \u001b[0mcoupling\u001b[0m\u001b[0;34m,\u001b[0m \u001b[0mlocal_coupling\u001b[0m\u001b[0;34m)\u001b[0m\u001b[0;34m\u001b[0m\u001b[0;34m\u001b[0m\u001b[0m\n",
      "\u001b[0;31mException\u001b[0m: Got shape (8,) for noise but require (7, 512). You need to reconfigure noise after you have changed your model."
     ]
    }
   ],
   "source": [
    "# run simulation\n",
    "result = sim.run()"
   ]
  },
  {
   "cell_type": "code",
   "execution_count": 13,
   "id": "sacred-holocaust",
   "metadata": {},
   "outputs": [
    {
     "ename": "NameError",
     "evalue": "name 'result' is not defined",
     "output_type": "error",
     "traceback": [
      "\u001b[0;31m---------------------------------------------------------------------------\u001b[0m",
      "\u001b[0;31mNameError\u001b[0m                                 Traceback (most recent call last)",
      "\u001b[0;32m<ipython-input-13-f76dbf6ed064>\u001b[0m in \u001b[0;36m<module>\u001b[0;34m\u001b[0m\n\u001b[1;32m      1\u001b[0m \u001b[0;31m# simulation time and data for each monitor:\u001b[0m\u001b[0;34m\u001b[0m\u001b[0;34m\u001b[0m\u001b[0;34m\u001b[0m\u001b[0m\n\u001b[1;32m      2\u001b[0m \u001b[0;34m\u001b[0m\u001b[0m\n\u001b[0;32m----> 3\u001b[0;31m \u001b[0mfr_time\u001b[0m \u001b[0;34m=\u001b[0m \u001b[0mresult\u001b[0m\u001b[0;34m[\u001b[0m\u001b[0;36m0\u001b[0m\u001b[0;34m]\u001b[0m\u001b[0;34m[\u001b[0m\u001b[0;36m0\u001b[0m\u001b[0;34m]\u001b[0m\u001b[0;34m\u001b[0m\u001b[0;34m\u001b[0m\u001b[0m\n\u001b[0m\u001b[1;32m      4\u001b[0m \u001b[0mfr_data_e\u001b[0m \u001b[0;34m=\u001b[0m \u001b[0mresult\u001b[0m\u001b[0;34m[\u001b[0m\u001b[0;36m0\u001b[0m\u001b[0;34m]\u001b[0m\u001b[0;34m[\u001b[0m\u001b[0;36m1\u001b[0m\u001b[0;34m]\u001b[0m\u001b[0;34m[\u001b[0m\u001b[0;34m:\u001b[0m\u001b[0;34m,\u001b[0m\u001b[0;36m0\u001b[0m\u001b[0;34m,\u001b[0m\u001b[0;34m:\u001b[0m\u001b[0;34m,\u001b[0m\u001b[0;36m0\u001b[0m\u001b[0;34m]\u001b[0m\u001b[0;34m*\u001b[0m\u001b[0;36m1e3\u001b[0m \u001b[0;31m# from KHz to Hz, excitatory population\u001b[0m\u001b[0;34m\u001b[0m\u001b[0;34m\u001b[0m\u001b[0m\n\u001b[1;32m      5\u001b[0m \u001b[0mfr_data_i\u001b[0m \u001b[0;34m=\u001b[0m \u001b[0mresult\u001b[0m\u001b[0;34m[\u001b[0m\u001b[0;36m0\u001b[0m\u001b[0;34m]\u001b[0m\u001b[0;34m[\u001b[0m\u001b[0;36m1\u001b[0m\u001b[0;34m]\u001b[0m\u001b[0;34m[\u001b[0m\u001b[0;34m:\u001b[0m\u001b[0;34m,\u001b[0m\u001b[0;36m1\u001b[0m\u001b[0;34m,\u001b[0m\u001b[0;34m:\u001b[0m\u001b[0;34m,\u001b[0m\u001b[0;36m0\u001b[0m\u001b[0;34m]\u001b[0m\u001b[0;34m*\u001b[0m\u001b[0;36m1e3\u001b[0m \u001b[0;31m# from KHz to Hz, inhibitory population\u001b[0m\u001b[0;34m\u001b[0m\u001b[0;34m\u001b[0m\u001b[0m\n",
      "\u001b[0;31mNameError\u001b[0m: name 'result' is not defined"
     ]
    }
   ],
   "source": [
    "# simulation time and data for each monitor:\n",
    "\n",
    "fr_time = result[0][0]\n",
    "fr_data_e = result[0][1][:,0,:,0]*1e3 # from KHz to Hz, excitatory population\n",
    "fr_data_i = result[0][1][:,1,:,0]*1e3 # from KHz to Hz, inhibitory population\n",
    "\n",
    "ca_time = result[1][0]\n",
    "ca_data_e = result[1][1][:,0,:] # excitatory population\n",
    "ca_data_i = result[1][1][:,1,:] # inhibitory population"
   ]
  },
  {
   "cell_type": "code",
   "execution_count": null,
   "id": "superb-disorder",
   "metadata": {},
   "outputs": [],
   "source": [
    "# plot the time series for (some) excitatory and inhibitory signals\n",
    "import matplotlib.pyplot as plt\n",
    "\n",
    "fig, ax = plt.subplots(2,2, figsize=(8,4), sharex=True)\n",
    "ax[0,0].plot(fr_time, fr_data_e[:,10:21])\n",
    "ax[0,1].plot(fr_time, fr_data_i[:,10:21])\n",
    "ax[1,0].plot(ca_time, ca_data_e[:,0:10])\n",
    "ax[1,1].plot(ca_time, ca_data_i[:,0:10])\n",
    "\n",
    "ax[0,0].set_title('Excitatory population')\n",
    "ax[0,1].set_title('Inhibitory population')\n",
    "\n",
    "ax[0,0].set_ylabel('Firing rate (Hz)')\n",
    "ax[1,0].set_ylabel(r'$\\Delta$F/F (%)')\n",
    "\n",
    "ax[0,1].set_xlabel('Time (ms)')\n",
    "ax[1,1].set_xlabel('Time (ms)')\n",
    "\n",
    "plt.tight_layout()\n",
    "\n",
    "plt.show()"
   ]
  },
  {
   "cell_type": "code",
   "execution_count": null,
   "id": "contained-titanium",
   "metadata": {},
   "outputs": [],
   "source": [
    "# plot stimulus pattern\n",
    "plot_pattern(sim.stimulus)\n",
    "plt.tight_layout()\n",
    "plt.show()"
   ]
  },
  {
   "cell_type": "code",
   "execution_count": null,
   "id": "coupled-client",
   "metadata": {},
   "outputs": [],
   "source": []
  }
 ],
 "metadata": {
  "kernelspec": {
   "display_name": "Python 3",
   "language": "python",
   "name": "python3"
  },
  "language_info": {
   "codemirror_mode": {
    "name": "ipython",
    "version": 3
   },
   "file_extension": ".py",
   "mimetype": "text/x-python",
   "name": "python",
   "nbconvert_exporter": "python",
   "pygments_lexer": "ipython3",
   "version": "3.6.13"
  }
 },
 "nbformat": 4,
 "nbformat_minor": 5
}
